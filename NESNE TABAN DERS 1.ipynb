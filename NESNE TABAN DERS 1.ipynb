{
 "cells": [
  {
   "cell_type": "code",
   "execution_count": null,
   "metadata": {},
   "outputs": [],
   "source": [
    "class Ayakkabı():\n",
    "    marka = \"Nike\"\n",
    "    model = \"Koşu\"\n",
    "    renk = \"Beyaz\"\n",
    "    numara = 7"
   ]
  },
  {
   "cell_type": "code",
   "execution_count": null,
   "metadata": {},
   "outputs": [],
   "source": [
    "ayakkabı1 = Ayakkabı()"
   ]
  },
  {
   "cell_type": "code",
   "execution_count": null,
   "metadata": {},
   "outputs": [],
   "source": [
    "ayakkabı1"
   ]
  },
  {
   "cell_type": "code",
   "execution_count": null,
   "metadata": {},
   "outputs": [],
   "source": [
    "ayakkabı2 = Ayakkabı()"
   ]
  },
  {
   "cell_type": "code",
   "execution_count": null,
   "metadata": {},
   "outputs": [],
   "source": [
    "ayakkabı2"
   ]
  },
  {
   "cell_type": "code",
   "execution_count": null,
   "metadata": {},
   "outputs": [],
   "source": [
    "ayakkabı1.marka"
   ]
  },
  {
   "cell_type": "code",
   "execution_count": null,
   "metadata": {},
   "outputs": [],
   "source": [
    "dir(Ayakkabı)"
   ]
  },
  {
   "cell_type": "code",
   "execution_count": null,
   "metadata": {},
   "outputs": [],
   "source": [
    "class Ayakkabı():\n",
    "    marka = \"Nike\"\n",
    "    model = \"Koşu\"\n",
    "    renk = \"Beyaz\"\n",
    "    numara = 7\n",
    "    def __init__(self):\n",
    "        print(\"init fonksiyonu çağrıldı\")              "
   ]
  },
  {
   "cell_type": "code",
   "execution_count": null,
   "metadata": {},
   "outputs": [],
   "source": [
    "ayakkabı1 = Ayakkabı()"
   ]
  },
  {
   "cell_type": "code",
   "execution_count": null,
   "metadata": {},
   "outputs": [],
   "source": [
    "class Ayakkabı():\n",
    "    def __init__(self,marka,model,renk,numara):\n",
    "        print(\"init fonksiyonu çağrıldı\")  \n",
    "        self.marka = marka\n",
    "        self.model = model\n",
    "        self.renk = renk\n",
    "        self.numara = numara"
   ]
  },
  {
   "cell_type": "code",
   "execution_count": null,
   "metadata": {},
   "outputs": [],
   "source": [
    "ayakkabı2 = Ayakkabı(\"Adidas\",\"Yürüyüş\",\"Siyah\",8)"
   ]
  },
  {
   "cell_type": "code",
   "execution_count": null,
   "metadata": {},
   "outputs": [],
   "source": [
    "ayakkabı3 = Ayakkabı(\"Puma\",\"Futbol\",\"Gri\",8.5)"
   ]
  },
  {
   "cell_type": "code",
   "execution_count": null,
   "metadata": {},
   "outputs": [],
   "source": [
    "ayakkabı1.marka"
   ]
  },
  {
   "cell_type": "code",
   "execution_count": null,
   "metadata": {},
   "outputs": [],
   "source": [
    "ayakkabı2.marka"
   ]
  },
  {
   "cell_type": "code",
   "execution_count": null,
   "metadata": {},
   "outputs": [],
   "source": [
    "ayakkabı3.marka"
   ]
  },
  {
   "cell_type": "code",
   "execution_count": null,
   "metadata": {},
   "outputs": [],
   "source": [
    "class Ayakkabı():\n",
    "    def __init__(self,marka,model,renk,numara):\n",
    "        print(\"init fonksiyonu çağrıldı\")  \n",
    "        self.marka = marka\n",
    "        self.model = model\n",
    "        self.renk = renk\n",
    "        self.numara = numara\n",
    "    def bilgiler(self):\n",
    "        print(\"\"\"\n",
    "        Ayakkabı Özellikleri\n",
    "        \n",
    "        Marka:  {}\n",
    "        \n",
    "        Model:  {}\n",
    "        \n",
    "        Renk:   {}\n",
    "        \n",
    "        Numara: {}\n",
    "        \n",
    "        \"\"\".format(self.marka,self.model,self.renk,self.numara))"
   ]
  },
  {
   "cell_type": "code",
   "execution_count": null,
   "metadata": {},
   "outputs": [],
   "source": [
    "ayakkabı4 = Ayakkabı(\"Reebok\",\"Basketbol\",\"Yeşil\",9.5)"
   ]
  },
  {
   "cell_type": "code",
   "execution_count": null,
   "metadata": {},
   "outputs": [],
   "source": [
    "ayakkabı4"
   ]
  },
  {
   "cell_type": "code",
   "execution_count": null,
   "metadata": {},
   "outputs": [],
   "source": [
    "ayakkabı4.bilgiler()"
   ]
  },
  {
   "cell_type": "code",
   "execution_count": null,
   "metadata": {},
   "outputs": [],
   "source": [
    "ayakkabı3 = Ayakkabı(\"Puma\",\"Futbol\",\"Gri\",8.5)"
   ]
  },
  {
   "cell_type": "code",
   "execution_count": null,
   "metadata": {},
   "outputs": [],
   "source": [
    "ayakkabı3.bilgiler()"
   ]
  },
  {
   "cell_type": "code",
   "execution_count": null,
   "metadata": {},
   "outputs": [],
   "source": [
    "class Ayakkabı():\n",
    "    def __init__(self,marka,model,renk,numara,stok):\n",
    "        print(\"init fonksiyonu çağrıldı\")  \n",
    "        self.marka = marka\n",
    "        self.model = model\n",
    "        self.renk = renk\n",
    "        self.numara = numara\n",
    "        self.stok = 25\n",
    "    def bilgiler(self):\n",
    "        print(\"\"\"\n",
    "        Ayakkabı Özellikleri\n",
    "        \n",
    "        Marka:        {}\n",
    "        \n",
    "        Model:        {}\n",
    "        \n",
    "        Renk:         {}\n",
    "        \n",
    "        Numara:       {}\n",
    "        \n",
    "        Stok Mikrarı: {}\n",
    "        \n",
    "        \"\"\".format(self.marka,self.model,self.renk,self.numara,self.stok))\n",
    "    def stokal(self,artı):\n",
    "        print(\"Stok miktarı ekleniyor...\")\n",
    "        self.stok += artı\n",
    "    def stoksat(self,eksi):\n",
    "        print(\"Stok miktarından satış miktarı çıkarılıyor...\")\n",
    "        self.stok -= eksi"
   ]
  },
  {
   "cell_type": "code",
   "execution_count": null,
   "metadata": {},
   "outputs": [],
   "source": [
    "ayakkabı2 = Ayakkabı(\"Adidas\",\"Yürüyüş\",\"Siyah\",8,25)"
   ]
  },
  {
   "cell_type": "code",
   "execution_count": null,
   "metadata": {},
   "outputs": [],
   "source": [
    "ayakkabı2.bilgiler()"
   ]
  },
  {
   "cell_type": "code",
   "execution_count": null,
   "metadata": {},
   "outputs": [],
   "source": [
    "ayakkabı2.stokal(17)"
   ]
  },
  {
   "cell_type": "code",
   "execution_count": null,
   "metadata": {},
   "outputs": [],
   "source": [
    "ayakkabı2.bilgiler()"
   ]
  },
  {
   "cell_type": "code",
   "execution_count": null,
   "metadata": {},
   "outputs": [],
   "source": [
    "ayakkabı2.stoksat(5)"
   ]
  },
  {
   "cell_type": "code",
   "execution_count": null,
   "metadata": {},
   "outputs": [],
   "source": [
    "ayakkabı2.bilgiler()"
   ]
  }
 ],
 "metadata": {
  "kernelspec": {
   "display_name": "Python 3",
   "language": "python",
   "name": "python3"
  },
  "language_info": {
   "codemirror_mode": {
    "name": "ipython",
    "version": 3
   },
   "file_extension": ".py",
   "mimetype": "text/x-python",
   "name": "python",
   "nbconvert_exporter": "python",
   "pygments_lexer": "ipython3",
   "version": "3.7.3"
  }
 },
 "nbformat": 4,
 "nbformat_minor": 2
}
